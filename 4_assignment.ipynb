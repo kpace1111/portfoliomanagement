{
 "cells": [
  {
   "cell_type": "markdown",
   "metadata": {},
   "source": [
    "# 1. Using data you obtained from the previous assignment (for the stock you chose), compute your stock's daily variance and standard deviation.\n"
   ]
  },
  {
   "cell_type": "code",
   "execution_count": 19,
   "metadata": {},
   "outputs": [],
   "source": [
    "# import libraries\n",
    "import pandas as pd\n",
    "import numpy as np\n",
    "import matplotlib.pyplot as plt\n",
    "import seaborn as sns\n",
    "sns.set()"
   ]
  },
  {
   "cell_type": "code",
   "execution_count": 20,
   "metadata": {},
   "outputs": [],
   "source": [
    "df = pd.read_csv('https://raw.githubusercontent.com/kpace1111/portfoliomanagement/main/AAPL.csv')\n",
    "df = df[['Date', 'Adj Close']] #extract columns only\n",
    "\n",
    "df.rename(\n",
    "    columns={'Date' : 'date', 'Adj Close' : 'price_t'}, \n",
    "    inplace=True) #rename to match pep8 standards\n",
    "\n",
    "df['returns'] = df['price_t'].pct_change(1) #calculate returns\n",
    "#df.head()"
   ]
  },
  {
   "cell_type": "code",
   "execution_count": 21,
   "metadata": {},
   "outputs": [
    {
     "data": {
      "text/plain": [
       "0.0029710665377807345"
      ]
     },
     "execution_count": 21,
     "metadata": {},
     "output_type": "execute_result"
    }
   ],
   "source": [
    "#variance\n",
    "var_appl = np.var(df['returns'], ddof=1) #this is n-ddof, delta degrees of freedon, default is n-0, so need to make it n-1\n",
    "var_appl"
   ]
  },
  {
   "cell_type": "code",
   "execution_count": 22,
   "metadata": {},
   "outputs": [
    {
     "data": {
      "text/plain": [
       "0.05450749065753013"
      ]
     },
     "execution_count": 22,
     "metadata": {},
     "output_type": "execute_result"
    }
   ],
   "source": [
    "#standard deviation - daily\n",
    "sd_appl = np.sqrt(var_appl)\n",
    "sd_appl"
   ]
  },
  {
   "cell_type": "code",
   "execution_count": 23,
   "metadata": {},
   "outputs": [
    {
     "data": {
      "text/plain": [
       "0.05450749065753013"
      ]
     },
     "execution_count": 23,
     "metadata": {},
     "output_type": "execute_result"
    }
   ],
   "source": [
    "# SD quick method - daily\n",
    "np.std(df['returns'], ddof=1)"
   ]
  },
  {
   "cell_type": "code",
   "execution_count": 24,
   "metadata": {},
   "outputs": [
    {
     "data": {
      "text/plain": [
       "0.054507490657530126"
      ]
     },
     "execution_count": 24,
     "metadata": {},
     "output_type": "execute_result"
    }
   ],
   "source": [
    "#calculate daily SD manually - (check answer)\n",
    "\n",
    "df['deviations'] = df['returns'] - df['returns'].mean()\n",
    "df['squared_deviations'] = df['deviations'] **2\n",
    "\n",
    "#need to remove NA - if not the number of observations can be overestimated since NaNs aren't return observations\n",
    "#sum(df['squared_deviations'].dropna())\n",
    "#or use built in method\n",
    "np.sum(df['squared_deviations'])\n",
    "\n",
    "#calculate daily SD manually\n",
    "sum_squared_deviations = np.sum(df['squared_deviations'])\n",
    "var_appl_manual = sum_squared_deviations / (len(df['squared_deviations'].dropna()) - 1) #len finds n\n",
    "np.sqrt(var_appl_manual)"
   ]
  },
  {
   "cell_type": "markdown",
   "metadata": {},
   "source": [
    "# 2. Estimate your stock's annualised standard deviation."
   ]
  },
  {
   "cell_type": "code",
   "execution_count": 25,
   "metadata": {},
   "outputs": [
    {
     "data": {
      "text/plain": [
       "0.861839100090721"
      ]
     },
     "execution_count": 25,
     "metadata": {},
     "output_type": "execute_result"
    }
   ],
   "source": [
    "#sd annual\n",
    "sd_appl_annual = sd_appl * np.sqrt(250)\n",
    "sd_appl_annual"
   ]
  }
 ],
 "metadata": {
  "kernelspec": {
   "display_name": "Python 3.7.4 ('base')",
   "language": "python",
   "name": "python3"
  },
  "language_info": {
   "codemirror_mode": {
    "name": "ipython",
    "version": 3
   },
   "file_extension": ".py",
   "mimetype": "text/x-python",
   "name": "python",
   "nbconvert_exporter": "python",
   "pygments_lexer": "ipython3",
   "version": "3.7.4"
  },
  "orig_nbformat": 4,
  "vscode": {
   "interpreter": {
    "hash": "af565c2aa66c9cea60ac2262cc59e8030ae672bd774bc1c48f638e1c8f2d9732"
   }
  }
 },
 "nbformat": 4,
 "nbformat_minor": 2
}
