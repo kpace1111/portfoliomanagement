{
 "cells": [
  {
   "cell_type": "code",
   "execution_count": 2,
   "metadata": {},
   "outputs": [],
   "source": [
    "# import libraries\n",
    "import pandas as pd\n",
    "import matplotlib.pyplot as plt\n",
    "import seaborn as sns\n",
    "sns.set()"
   ]
  },
  {
   "cell_type": "code",
   "execution_count": 4,
   "metadata": {},
   "outputs": [],
   "source": [
    "df = pd.read_csv('https://raw.githubusercontent.com/kpace1111/portfoliomanagement/main/AAPL.csv')"
   ]
  },
  {
   "cell_type": "markdown",
   "metadata": {},
   "source": [
    "### 1. Calculate the annual expected return, conditional on weekly returns data ###"
   ]
  },
  {
   "cell_type": "code",
   "execution_count": 8,
   "metadata": {},
   "outputs": [],
   "source": [
    "def getExpectedReturn(df, price_col_name, freq='daily' , annualised=True, annualise_method='sophisticated'):\n",
    "    #compute the return of price\n",
    "    returns = df[price_col_name].pct_change(1)\n",
    "    #Calculate the expected return daily or weekly\n",
    "    exp_return = returns.mean()\n",
    "\n",
    "    if freq == 'daily':\n",
    "        exponential = 250\n",
    "    elif freq == 'weekly':\n",
    "        exponential = 52\n",
    "\n",
    "    if annualised:\n",
    "        if annualise_method =='sophisticated':\n",
    "            expected_return_annualise = ((1 + exp_return)**exponential)-1\n",
    "        elif annualise_method == 'crude':\n",
    "            expected_return_annualise = exp_return*exponential\n",
    "        return expected_return_annualise\n",
    "    else:\n",
    "        return exp_return"
   ]
  },
  {
   "cell_type": "markdown",
   "metadata": {},
   "source": [
    "### 2. Extend the getExpectedReturns function created in the video to incorporate computations of Expected Returns using weekly data AND daily data ###"
   ]
  },
  {
   "cell_type": "code",
   "execution_count": 11,
   "metadata": {},
   "outputs": [],
   "source": [
    "def getExpectedReturn(df, price_col_name, freq='daily' , annualised=True, annualise_method='sophisticated'):\n",
    "    #compute the return of price\n",
    "    returns = df[price_col_name].pct_change(1)\n",
    "    #Calculate the expected return daily or weekly\n",
    "    exp_return = returns.mean()\n",
    "\n",
    "    if freq == 'daily':\n",
    "        exponential = 250\n",
    "    elif freq == 'weekly':\n",
    "        exponential = 52\n",
    "\n",
    "    if annualised:\n",
    "        if annualise_method =='sophisticated':\n",
    "            expected_return_annualise = ((1 + exp_return)**exponential)-1\n",
    "        elif annualise_method == 'crude':\n",
    "            expected_return_annualise = exp_return*exponential\n",
    "        return expected_return_annualise\n",
    "    else:\n",
    "        return exp_return"
   ]
  }
 ],
 "metadata": {
  "kernelspec": {
   "display_name": "Python 3.7.4 ('base')",
   "language": "python",
   "name": "python3"
  },
  "language_info": {
   "codemirror_mode": {
    "name": "ipython",
    "version": 3
   },
   "file_extension": ".py",
   "mimetype": "text/x-python",
   "name": "python",
   "nbconvert_exporter": "python",
   "pygments_lexer": "ipython3",
   "version": "3.7.4"
  },
  "orig_nbformat": 4,
  "vscode": {
   "interpreter": {
    "hash": "af565c2aa66c9cea60ac2262cc59e8030ae672bd774bc1c48f638e1c8f2d9732"
   }
  }
 },
 "nbformat": 4,
 "nbformat_minor": 2
}
