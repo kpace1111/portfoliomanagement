{
 "cells": [
  {
   "cell_type": "markdown",
   "metadata": {},
   "source": [
    "Setup a new notebook / .py file and load in the data for your chosen 10-15 stocks AND the market portfolio*. Then..."
   ]
  },
  {
   "cell_type": "code",
   "execution_count": 1,
   "metadata": {},
   "outputs": [],
   "source": [
    "# import libraries\n",
    "import pandas as pd # for data management and analysis\n",
    "import numpy as np # for numerical computations\n",
    "import matplotlib.pyplot as plt #for plotting\n",
    "import seaborn as sns # to make charts look good\n",
    "sns.set() # implement seaborn plotting templates/theme\n",
    "from scipy.optimize import minimize # for optimisation framework"
   ]
  },
  {
   "cell_type": "code",
   "execution_count": 21,
   "metadata": {},
   "outputs": [],
   "source": [
    "#import data\n",
    "df10 = pd.read_csv('https://raw.githubusercontent.com/kpace1111/portfoliomanagement/main/10stocks_assignment.csv')\n",
    "df10 = df10.loc[:, ~df10.columns.str.contains('^Unnamed')] #remove unamed columns\n",
    "df10['date'] = pd.to_datetime(df10['date']) # create dates as timestamp\n",
    "df10.set_index('date', inplace=True)\n",
    "#df10.head()\n",
    "returns_df10 = df10.pct_change(1).dropna() #calc returns of all 10 stocks\n",
    "#returns_df10"
   ]
  },
  {
   "cell_type": "code",
   "execution_count": 22,
   "metadata": {},
   "outputs": [],
   "source": [
    "#import data\n",
    "dfsp500 = pd.read_csv('https://raw.githubusercontent.com/kpace1111/portfoliomanagement/main/us500_price.csv')\n",
    "dfsp500['date'] = pd.to_datetime(dfsp500['date']) # create dates as timestamp\n",
    "dfsp500.set_index('date', inplace=True)\n",
    "#dfsp500.head()"
   ]
  },
  {
   "cell_type": "markdown",
   "metadata": {},
   "source": [
    "- Create a vector of weights which sum up to 1."
   ]
  },
  {
   "cell_type": "code",
   "execution_count": 33,
   "metadata": {},
   "outputs": [],
   "source": [
    "num_stocks = len(returns_df10.columns) \n",
    "init_weights = [1/num_stocks] * num_stocks #vector of weights"
   ]
  },
  {
   "cell_type": "markdown",
   "metadata": {},
   "source": [
    "- Calculate the annualised Expected Return of the portfolio as it is."
   ]
  },
  {
   "cell_type": "code",
   "execution_count": 24,
   "metadata": {},
   "outputs": [
    {
     "data": {
      "text/plain": [
       "0.15937560313247898"
      ]
     },
     "execution_count": 24,
     "metadata": {},
     "output_type": "execute_result"
    }
   ],
   "source": [
    "# using scipy minimise method\n",
    "#create function too calc returns\n",
    "def getPortReturn(weights):\n",
    "    exp_ret_portfolio = np.dot(np.transpose(weights), returns_df10.mean()) * 250 #annualise crude method\n",
    "    \n",
    "    return exp_ret_portfolio\n",
    "\n",
    "getPortReturn(init_weights)"
   ]
  },
  {
   "cell_type": "markdown",
   "metadata": {},
   "source": [
    "- Calculate the annualised Standard Deviation of the portfolio as it is."
   ]
  },
  {
   "cell_type": "code",
   "execution_count": 61,
   "metadata": {},
   "outputs": [
    {
     "data": {
      "text/plain": [
       "0.23019518687128937"
      ]
     },
     "execution_count": 61,
     "metadata": {},
     "output_type": "execute_result"
    }
   ],
   "source": [
    "vcv_matrix = returns_df10.cov() # sigma - works out var and cov for all 10 stocks\n",
    "\n",
    "# take transposed of vector of weights and multiply by product of the VCV matrix and the vector of weights \n",
    "var_p = np.dot(np.transpose(weights), np.dot(vcv_matrix, weights)) #variance of 10 asset portfolio\n",
    "sd_p = np.sqrt(var_p) #daily SD of 10 asset portfolio\n",
    "sd_p_annual = sd_p * np.sqrt(250)\n",
    "\n",
    "sd_p_annual"
   ]
  },
  {
   "cell_type": "markdown",
   "metadata": {},
   "source": [
    "- Calculate the annualised Expected Return and Standard Deviation for the market portfolio."
   ]
  },
  {
   "cell_type": "code",
   "execution_count": 34,
   "metadata": {},
   "outputs": [
    {
     "data": {
      "text/plain": [
       "0.09803988805644015"
      ]
     },
     "execution_count": 34,
     "metadata": {},
     "output_type": "execute_result"
    }
   ],
   "source": [
    "## create a function to calcualate annualised expected returns\n",
    "\n",
    "def getExpectedReturn(df, price_col_name, annualised=True, annualise_method='sophisticated'):\n",
    "    \"\"\"\n",
    "    Returns the expected return of a stock given price data\n",
    "    \"\"\"\n",
    "    \n",
    "    #Calculate returns of prices, stores them under returns\n",
    "    returns = df[price_col_name].pct_change(1)\n",
    "    \n",
    "    #Calculate the expected return using the mean method\n",
    "    expected_return_daily = returns.mean()\n",
    "    \n",
    "    if annualised:\n",
    "        if annualise_method == 'sophisticated':\n",
    "            expected_return_annual = ((1 + expected_return_daily) ** 250) -1\n",
    "        elif annualise_method == 'crude':\n",
    "            # crude method\n",
    "            expected_return_annual = expected_return_daily * 250\n",
    "        return expected_return_annual\n",
    "    else:\n",
    "        return expected_return_daily\n",
    "    \n",
    "\n",
    "getExpectedReturn(df=dfsp500, price_col_name='price', annualise_method='sophisticated')"
   ]
  },
  {
   "cell_type": "code",
   "execution_count": 35,
   "metadata": {},
   "outputs": [
    {
     "data": {
      "text/plain": [
       "0.20364418439412446"
      ]
     },
     "execution_count": 35,
     "metadata": {},
     "output_type": "execute_result"
    }
   ],
   "source": [
    "dfsp500['returns'] = dfsp500['price'].pct_change(1) #calculate returns\n",
    "sd_sp500 = np.std(dfsp500['returns'], ddof=1)\n",
    "sd_sp500_annual = sd_sp500 * np.sqrt(250)\n",
    "sd_sp500_annual"
   ]
  },
  {
   "cell_type": "markdown",
   "metadata": {},
   "source": [
    "# Questions for this assignment # \n",
    "\n",
    "\n"
   ]
  },
  {
   "cell_type": "markdown",
   "metadata": {},
   "source": [
    "## 1. Optimise your portfolio weights so that the expected return on your 10-15 asset portfolio is equal to the annualised expected return on the market portfolio. What is the risk of your portfolio now? How does it compare to the market portfolio? How does it compare to the performance using the initialised weights? ##"
   ]
  },
  {
   "cell_type": "code",
   "execution_count": 68,
   "metadata": {},
   "outputs": [
    {
     "data": {
      "text/html": [
       "<div>\n",
       "<style scoped>\n",
       "    .dataframe tbody tr th:only-of-type {\n",
       "        vertical-align: middle;\n",
       "    }\n",
       "\n",
       "    .dataframe tbody tr th {\n",
       "        vertical-align: top;\n",
       "    }\n",
       "\n",
       "    .dataframe thead th {\n",
       "        text-align: right;\n",
       "    }\n",
       "</style>\n",
       "<table border=\"1\" class=\"dataframe\">\n",
       "  <thead>\n",
       "    <tr style=\"text-align: right;\">\n",
       "      <th></th>\n",
       "      <th>0</th>\n",
       "    </tr>\n",
       "  </thead>\n",
       "  <tbody>\n",
       "    <tr>\n",
       "      <th>msft_price</th>\n",
       "      <td>2.624833e-02</td>\n",
       "    </tr>\n",
       "    <tr>\n",
       "      <th>amzn_price</th>\n",
       "      <td>8.708099e-02</td>\n",
       "    </tr>\n",
       "    <tr>\n",
       "      <th>googl_price</th>\n",
       "      <td>9.997273e-02</td>\n",
       "    </tr>\n",
       "    <tr>\n",
       "      <th>aapl_price</th>\n",
       "      <td>2.775558e-17</td>\n",
       "    </tr>\n",
       "    <tr>\n",
       "      <th>fb_price</th>\n",
       "      <td>2.584180e-01</td>\n",
       "    </tr>\n",
       "    <tr>\n",
       "      <th>brkb_price</th>\n",
       "      <td>1.328736e-01</td>\n",
       "    </tr>\n",
       "    <tr>\n",
       "      <th>mcd_price</th>\n",
       "      <td>1.239360e-01</td>\n",
       "    </tr>\n",
       "    <tr>\n",
       "      <th>hd_price</th>\n",
       "      <td>1.002538e-01</td>\n",
       "    </tr>\n",
       "    <tr>\n",
       "      <th>xom_price</th>\n",
       "      <td>1.349084e-01</td>\n",
       "    </tr>\n",
       "    <tr>\n",
       "      <th>unh_price</th>\n",
       "      <td>3.630811e-02</td>\n",
       "    </tr>\n",
       "  </tbody>\n",
       "</table>\n",
       "</div>"
      ],
      "text/plain": [
       "                        0\n",
       "msft_price   2.624833e-02\n",
       "amzn_price   8.708099e-02\n",
       "googl_price  9.997273e-02\n",
       "aapl_price   2.775558e-17\n",
       "fb_price     2.584180e-01\n",
       "brkb_price   1.328736e-01\n",
       "mcd_price    1.239360e-01\n",
       "hd_price     1.002538e-01\n",
       "xom_price    1.349084e-01\n",
       "unh_price    3.630811e-02"
      ]
     },
     "execution_count": 68,
     "metadata": {},
     "output_type": "execute_result"
    }
   ],
   "source": [
    "target_return = 0.098\n",
    "bounds = tuple((0, 1) for i in range (num_stocks)) # for loop, create tuple of 0, 1 for every stock\n",
    "cons = ({'type' : 'eq', 'fun' : lambda w : np.sum(w) -1 }, #create constraint with tuple with 2 dictionaries inside, with each relating to a contraint in the minimise method, when the function inside contrant = 0, it has satisfied constraint\n",
    "        {'type' : 'eq', 'fun' : lambda x : x.dot(returns_df10.mean()) * 250 - target_return }) #second constraint, finds the difference between the E(rp) and the target must = 0 by minimising function (=0) and satisifying constraint\n",
    "\n",
    "results = minimize(fun=getPortReturn, x0=init_weights, bounds=bounds, constraints=cons)\n",
    "\n",
    "optimised_weights = pd.DataFrame(results['x']) # create df for the optimised weights\n",
    "optimised_weights.index = returns_df10.columns # add tickers as index\n",
    "optimised_weights #high risk, high reward"
   ]
  },
  {
   "cell_type": "code",
   "execution_count": 69,
   "metadata": {},
   "outputs": [
    {
     "data": {
      "text/plain": [
       "0.09799999976407359"
      ]
     },
     "execution_count": 69,
     "metadata": {},
     "output_type": "execute_result"
    }
   ],
   "source": [
    "getPortReturn(weights=results['x']) # pull optimised weights from above, confirming result"
   ]
  },
  {
   "cell_type": "code",
   "execution_count": 70,
   "metadata": {},
   "outputs": [],
   "source": [
    "def getPortRisk(weights):\n",
    "    \n",
    "    '''Returns the annualised standard deviation of a k asset portfolio.'''\n",
    "\n",
    "    returns_df10 = df10.pct_change(1).dropna()  # estimate returns for each asset\n",
    "    num_stocks = len(returns_df10.columns)  # number of stocks based on number of columns (excluding index col)\n",
    "                                          # this is a local variable\n",
    "        \n",
    "    vcv = returns_df10.cov()  # being the variance covariance matrix\n",
    "    \n",
    "    var_p = np.dot(np.transpose(weights), np.dot(vcv, weights))  # variance of the multi-asset portfolio\n",
    "    sd_p = np.sqrt(var_p)  # standard deviation of the multi-asset portfolio\n",
    "    sd_p_annual = sd_p * np.sqrt(250)  # annualised standard deviation of the multi-asset portfolio\n",
    "    \n",
    "    return sd_p_annual"
   ]
  },
  {
   "cell_type": "code",
   "execution_count": 71,
   "metadata": {},
   "outputs": [
    {
     "data": {
      "text/plain": [
       "0.23926564285480606"
      ]
     },
     "execution_count": 71,
     "metadata": {},
     "output_type": "execute_result"
    }
   ],
   "source": [
    "getPortRisk(results['x'])"
   ]
  },
  {
   "cell_type": "markdown",
   "metadata": {},
   "source": [
    "The original portfolio return was about 16%, when we decreased this target return to be 9.8% like the market portfolio, standard deviation actually increased, but very slightly from 23% to 24%, this was not really expected as risk and return are positively correlated. Overall this portfolio has higher risk and performs worse than the original portfolio. "
   ]
  },
  {
   "cell_type": "markdown",
   "metadata": {},
   "source": [
    "## 2. Optimise your portfolio weights so that the risk of your 10-15 asset portfolio is equal to the annualised risk of the market portfolio. What is the expected return on your portfolio now? How does it compare to the market portfolio?"
   ]
  },
  {
   "cell_type": "code",
   "execution_count": 74,
   "metadata": {},
   "outputs": [
    {
     "data": {
      "text/plain": [
       "mcd_price      0.372\n",
       "brkb_price     0.737\n",
       "amzn_price     0.866\n",
       "unh_price      0.931\n",
       "xom_price      0.980\n",
       "hd_price       1.000\n",
       "msft_price     1.000\n",
       "googl_price    1.000\n",
       "aapl_price     1.000\n",
       "fb_price       1.000\n",
       "Name: weights_rounded, dtype: float64"
      ]
     },
     "execution_count": 74,
     "metadata": {},
     "output_type": "execute_result"
    }
   ],
   "source": [
    "target_risk = 0.2\n",
    "num_stocks = len(df10.columns)  # being the number of stocks (this is a 'global' variable)\n",
    "init_weights = [1 / num_stocks] * num_stocks  # initialise weights (x0)\n",
    "\n",
    "bounds = tuple((0, 1) for i in range(num_stocks))\n",
    "\n",
    "cons = ({'type' : 'eq', 'fun' : lambda w : np.sum(w) - 1}, #create constraint with tuple with 2 dictionaries inside, with each relating to a contraint in the minimise method, when the function inside contrant = 0, it has satisfied constraint\n",
    "        {'type' : 'eq', 'fun' : lambda x: np.sqrt(np.dot(x, np.dot(returns_df10.cov(), np.transpose(x))))*np.sqrt(250) - target_risk}) #second constraint, finds the difference between the E(rp) and the target must = 0 by minimising function (=0) and satisifying constraint\n",
    "\n",
    "results = minimize(fun=getPortReturn, x0=init_weights, bounds=bounds, constraints=cons)\n",
    "\n",
    "optimised_weights = pd.DataFrame(results['x'])\n",
    "optimised_weights.index = df10.columns\n",
    "optimised_weights.rename(columns={optimised_weights.columns[0] : 'weights'}, inplace=True)\n",
    "optimised_weights['weights_rounded'] = optimised_weights['weights'].apply(lambda x : round(x, 3))\n",
    "optimised_weights['weights_rounded'].sort_values(ascending=False).cumsum()"
   ]
  },
  {
   "cell_type": "code",
   "execution_count": 75,
   "metadata": {},
   "outputs": [
    {
     "data": {
      "text/plain": [
       "0.1357914262496865"
      ]
     },
     "execution_count": 75,
     "metadata": {},
     "output_type": "execute_result"
    }
   ],
   "source": [
    "#new expected return\n",
    "getPortReturn(results['x'])"
   ]
  },
  {
   "cell_type": "markdown",
   "metadata": {},
   "source": [
    "As we decreased the target risk from 23% to 20%, the target returns also reduced from 16% to 13.6%. This was expected as when risk decreases so should returns. "
   ]
  },
  {
   "cell_type": "markdown",
   "metadata": {},
   "source": [
    "## 3. Optimise your portfolio weights so that the risk of your portfolio is minimised. What is the expected return on your portfolio now? How does it compare to the market portfolio?"
   ]
  },
  {
   "cell_type": "code",
   "execution_count": 76,
   "metadata": {},
   "outputs": [],
   "source": [
    "bounds = tuple((0, 1) for i in range(num_stocks))\n",
    "cons = ({'type' : 'eq', 'fun' : lambda x : np.sum(x) - 1})"
   ]
  },
  {
   "cell_type": "code",
   "execution_count": 77,
   "metadata": {},
   "outputs": [
    {
     "data": {
      "text/plain": [
       "     fun: 0.20246113598576024\n",
       "     jac: array([0.22047493, 0.20255713, 0.20625286, 0.22069   , 0.21775961,\n",
       "       0.20234111, 0.20243664, 0.20220008, 0.2024904 , 0.20309921])\n",
       " message: 'Optimization terminated successfully'\n",
       "    nfev: 143\n",
       "     nit: 13\n",
       "    njev: 13\n",
       "  status: 0\n",
       " success: True\n",
       "       x: array([1.43313320e-17, 1.29557802e-01, 0.00000000e+00, 2.82907427e-18,\n",
       "       1.60894437e-17, 3.63128735e-01, 3.72072702e-01, 1.79077045e-02,\n",
       "       4.91539440e-02, 6.81791136e-02])"
      ]
     },
     "execution_count": 77,
     "metadata": {},
     "output_type": "execute_result"
    }
   ],
   "source": [
    "results = minimize(fun=getPortRisk, x0=init_weights, bounds=bounds, constraints=cons)\n",
    "results"
   ]
  },
  {
   "cell_type": "code",
   "execution_count": 80,
   "metadata": {},
   "outputs": [
    {
     "data": {
      "text/plain": [
       "mcd_price      0.372\n",
       "brkb_price     0.735\n",
       "amzn_price     0.865\n",
       "unh_price      0.933\n",
       "xom_price      0.982\n",
       "hd_price       1.000\n",
       "msft_price     1.000\n",
       "googl_price    1.000\n",
       "aapl_price     1.000\n",
       "fb_price       1.000\n",
       "Name: weights_rounded, dtype: float64"
      ]
     },
     "execution_count": 80,
     "metadata": {},
     "output_type": "execute_result"
    }
   ],
   "source": [
    "# Explore optimised weights\n",
    "optimised_weights = pd.DataFrame(results['x'])\n",
    "optimised_weights.index = df10.columns\n",
    "optimised_weights.rename(columns={optimised_weights.columns[0] : 'weights'}, inplace=True)\n",
    "optimised_weights['weights_rounded'] = optimised_weights['weights'].apply(lambda x : round(x, 3))\n",
    "optimised_weights['weights_rounded'].sort_values(ascending=False).cumsum()"
   ]
  },
  {
   "cell_type": "code",
   "execution_count": 83,
   "metadata": {},
   "outputs": [
    {
     "data": {
      "text/plain": [
       "0.20246113598576024"
      ]
     },
     "execution_count": 83,
     "metadata": {},
     "output_type": "execute_result"
    }
   ],
   "source": [
    "getPortRisk(results['x'])"
   ]
  },
  {
   "cell_type": "code",
   "execution_count": 81,
   "metadata": {},
   "outputs": [
    {
     "data": {
      "text/plain": [
       "0.13609681282456434"
      ]
     },
     "execution_count": 81,
     "metadata": {},
     "output_type": "execute_result"
    }
   ],
   "source": [
    "getPortReturn(weights=results['x']) #pull optimised weights from above, confirming result"
   ]
  },
  {
   "cell_type": "markdown",
   "metadata": {},
   "source": [
    "The expected return is 13.6% which is still higher than the return from the market portfolio."
   ]
  },
  {
   "cell_type": "markdown",
   "metadata": {},
   "source": [
    "# 4. Based on the results from your optimisations, would you invest in your portfolio, or would you invest in the market portfolio instead? Why?"
   ]
  },
  {
   "cell_type": "markdown",
   "metadata": {},
   "source": [
    "When the 10 stock portfolio's risk is minimised, it has a SD of around 20.2% and an expected return of 13.6%, the market portfolio has a SD of 20.3% and a return of 9.8%. Just by this alone I would invest in the portfolio rather than the market portfolio. "
   ]
  }
 ],
 "metadata": {
  "kernelspec": {
   "display_name": "Python 3.8.8",
   "language": "python",
   "name": "python3"
  },
  "language_info": {
   "codemirror_mode": {
    "name": "ipython",
    "version": 3
   },
   "file_extension": ".py",
   "mimetype": "text/x-python",
   "name": "python",
   "nbconvert_exporter": "python",
   "pygments_lexer": "ipython3",
   "version": "3.8.8"
  },
  "orig_nbformat": 4,
  "vscode": {
   "interpreter": {
    "hash": "e45b03e689db900b98e4c12125195349884179e5ca7a8e273e81be61ad3d7f26"
   }
  }
 },
 "nbformat": 4,
 "nbformat_minor": 2
}
