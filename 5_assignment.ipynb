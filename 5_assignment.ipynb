{
 "cells": [
  {
   "cell_type": "markdown",
   "metadata": {},
   "source": [
    "Download / extract data for a stock of your choice for a 10 year duration. Next, download market data relevant for your stock. If your stock is listed in:\n",
    "- The US, download data for the S&P500 or other US stock market index.\n",
    "- The UK, download data for the FTSE100, FTSE250, or other UK stock market index.\n",
    "- Japan, download data for the NIKKEI.\n",
    "- India, download data for the Nifty or SENSEX.\n",
    "- Any other country, download data for your national level stock market index.\n",
    "\n",
    "Importantly, make sure that the dates for your stock data and the market data are exactly the same. Delete any observation where you don't have data for both.\n",
    "\n",
    "# Questions for this assignment #"
   ]
  },
  {
   "cell_type": "markdown",
   "metadata": {},
   "source": [
    "### 1. Create a function which calculates the Beta of a stock given a dataframe object as an input parameter. Your function should NOT use NumPy's .var() or .cov() methods. Instead, it should estimate the Beta manually (i.e. applying the formula for the Beta from scratch.)"
   ]
  },
  {
   "cell_type": "code",
   "execution_count": 1,
   "metadata": {},
   "outputs": [],
   "source": [
    "# import libraries\n",
    "import pandas as pd\n",
    "import numpy as np"
   ]
  },
  {
   "cell_type": "code",
   "execution_count": 2,
   "metadata": {},
   "outputs": [],
   "source": [
    "#import data\n",
    "df = pd.read_csv('https://raw.githubusercontent.com/kpace1111/portfoliomanagement/main/amzn_sp500_price10y.csv')\n",
    "df.set_index('date', inplace=True)"
   ]
  },
  {
   "cell_type": "code",
   "execution_count": 3,
   "metadata": {},
   "outputs": [],
   "source": [
    "#calculate returns for both amzn and sp500 in one go\n",
    "returns_df = df.pct_change(1)\n",
    "#remove NaN\n",
    "returns_df.dropna(inplace=True)\n",
    "#change column names\n",
    "new_col_names = ['r_amzn', 'r_sp500']\n",
    "returns_df.columns = new_col_names\n"
   ]
  },
  {
   "cell_type": "code",
   "execution_count": 4,
   "metadata": {},
   "outputs": [
    {
     "data": {
      "text/html": [
       "<div>\n",
       "<style scoped>\n",
       "    .dataframe tbody tr th:only-of-type {\n",
       "        vertical-align: middle;\n",
       "    }\n",
       "\n",
       "    .dataframe tbody tr th {\n",
       "        vertical-align: top;\n",
       "    }\n",
       "\n",
       "    .dataframe thead th {\n",
       "        text-align: right;\n",
       "    }\n",
       "</style>\n",
       "<table border=\"1\" class=\"dataframe\">\n",
       "  <thead>\n",
       "    <tr style=\"text-align: right;\">\n",
       "      <th></th>\n",
       "      <th>r_amzn</th>\n",
       "      <th>r_sp500</th>\n",
       "      <th>deviations</th>\n",
       "      <th>squared_deviations</th>\n",
       "    </tr>\n",
       "    <tr>\n",
       "      <th>date</th>\n",
       "      <th></th>\n",
       "      <th></th>\n",
       "      <th></th>\n",
       "      <th></th>\n",
       "    </tr>\n",
       "  </thead>\n",
       "  <tbody>\n",
       "    <tr>\n",
       "      <th>11/02/2012</th>\n",
       "      <td>0.000861</td>\n",
       "      <td>-0.009379</td>\n",
       "      <td>-0.009835</td>\n",
       "      <td>0.000097</td>\n",
       "    </tr>\n",
       "    <tr>\n",
       "      <th>11/05/2012</th>\n",
       "      <td>0.008606</td>\n",
       "      <td>0.002164</td>\n",
       "      <td>0.001708</td>\n",
       "      <td>0.000003</td>\n",
       "    </tr>\n",
       "    <tr>\n",
       "      <th>11/06/2012</th>\n",
       "      <td>0.013652</td>\n",
       "      <td>0.007853</td>\n",
       "      <td>0.007398</td>\n",
       "      <td>0.000055</td>\n",
       "    </tr>\n",
       "    <tr>\n",
       "      <th>11/07/2012</th>\n",
       "      <td>-0.023569</td>\n",
       "      <td>-0.023705</td>\n",
       "      <td>-0.024160</td>\n",
       "      <td>0.000584</td>\n",
       "    </tr>\n",
       "    <tr>\n",
       "      <th>11/08/2012</th>\n",
       "      <td>-0.019828</td>\n",
       "      <td>-0.012205</td>\n",
       "      <td>-0.012660</td>\n",
       "      <td>0.000160</td>\n",
       "    </tr>\n",
       "  </tbody>\n",
       "</table>\n",
       "</div>"
      ],
      "text/plain": [
       "              r_amzn   r_sp500  deviations  squared_deviations\n",
       "date                                                          \n",
       "11/02/2012  0.000861 -0.009379   -0.009835            0.000097\n",
       "11/05/2012  0.008606  0.002164    0.001708            0.000003\n",
       "11/06/2012  0.013652  0.007853    0.007398            0.000055\n",
       "11/07/2012 -0.023569 -0.023705   -0.024160            0.000584\n",
       "11/08/2012 -0.019828 -0.012205   -0.012660            0.000160"
      ]
     },
     "execution_count": 4,
     "metadata": {},
     "output_type": "execute_result"
    }
   ],
   "source": [
    "#calculate Variance\n",
    "returns_df['deviations'] = returns_df['r_sp500'] - returns_df['r_sp500'].mean()\n",
    "returns_df['squared_deviations'] = returns_df['deviations'] **2\n",
    "\n",
    "#need to remove NA - if not the number of observations can be overestimated since NaNs aren't return observations\n",
    "sum(returns_df['squared_deviations'].dropna())\n",
    "sum_squared_deviations = np.sum(returns_df['squared_deviations'])\n",
    "var_sp500 = sum_squared_deviations / (len(returns_df['squared_deviations'].dropna()) - 1) #len finds n\n",
    "returns_df.head()"
   ]
  },
  {
   "cell_type": "code",
   "execution_count": 5,
   "metadata": {},
   "outputs": [],
   "source": [
    "#calculate deviations\n",
    "deviations = returns_df - returns_df.mean()\n",
    "#individual deviations\n",
    "new_col_names = ['deviations_amzn', 'deviations_sp500', 'deviations', 'squared_deviations']\n",
    "deviations.columns = new_col_names\n",
    "#product of deviations\n",
    "product_deviations = deviations['deviations_amzn'] * deviations['deviations_sp500'] #pandas series, not df\n",
    "#cov\n",
    "cov_amzn_sp500 = product_deviations.sum() / (len(product_deviations)-1)\n"
   ]
  },
  {
   "cell_type": "code",
   "execution_count": 6,
   "metadata": {},
   "outputs": [
    {
     "data": {
      "text/plain": [
       "1.106048854114013"
      ]
     },
     "execution_count": 6,
     "metadata": {},
     "output_type": "execute_result"
    }
   ],
   "source": [
    "#beta = cov/var\n",
    "beta_amzn = cov_amzn_sp500 / var_sp500\n",
    "beta_amzn"
   ]
  },
  {
   "cell_type": "markdown",
   "metadata": {},
   "source": [
    "### 2. Calculate the Beta of your stock using the covariance and variance functions / methods built in to NumPy."
   ]
  },
  {
   "cell_type": "code",
   "execution_count": 7,
   "metadata": {},
   "outputs": [
    {
     "data": {
      "text/plain": [
       "1.1060488541140143"
      ]
     },
     "execution_count": 7,
     "metadata": {},
     "output_type": "execute_result"
    }
   ],
   "source": [
    "#cov\n",
    "cov = np.cov(returns_df['r_sp500'], returns_df['r_amzn'])[0][1]\n",
    "#variance\n",
    "var_sp500 = np.var(returns_df['r_sp500'], ddof=1)\n",
    "Beta = cov / var_sp500\n",
    "Beta"
   ]
  },
  {
   "cell_type": "markdown",
   "metadata": {},
   "source": [
    "### 3. Estimate the Beta of your stock using an appropriate module from SciPy. You may also use other packages, for instance, StatsModels.\n"
   ]
  },
  {
   "cell_type": "code",
   "execution_count": 8,
   "metadata": {},
   "outputs": [],
   "source": [
    "from scipy.stats import linregress"
   ]
  },
  {
   "cell_type": "code",
   "execution_count": 9,
   "metadata": {},
   "outputs": [
    {
     "data": {
      "text/plain": [
       "1.1060488541140128"
      ]
     },
     "execution_count": 9,
     "metadata": {},
     "output_type": "execute_result"
    }
   ],
   "source": [
    "#y is dependent variable, x is independent, x impacts y, slope = beta\n",
    "linregress(y=returns_df['r_amzn'], x=returns_df['r_sp500'])[0]"
   ]
  },
  {
   "cell_type": "markdown",
   "metadata": {},
   "source": [
    "### 4. Comment on why your Beta estimates may be different, even though you're using exactly the same dataset for all 3 preceding questions. Please think about why, even if your own Beta estimates were identical for all 3 cases."
   ]
  },
  {
   "cell_type": "markdown",
   "metadata": {},
   "source": [
    "Numpy functions defaults to the unbiased version, normalizing with ddof=none, meaning (N - 0), whereas if ddof is set to 1, it will observse n-1, rather than n."
   ]
  }
 ],
 "metadata": {
  "kernelspec": {
   "display_name": "Python 3.8.8",
   "language": "python",
   "name": "python3"
  },
  "language_info": {
   "codemirror_mode": {
    "name": "ipython",
    "version": 3
   },
   "file_extension": ".py",
   "mimetype": "text/x-python",
   "name": "python",
   "nbconvert_exporter": "python",
   "pygments_lexer": "ipython3",
   "version": "3.8.8"
  },
  "orig_nbformat": 4,
  "vscode": {
   "interpreter": {
    "hash": "e45b03e689db900b98e4c12125195349884179e5ca7a8e273e81be61ad3d7f26"
   }
  }
 },
 "nbformat": 4,
 "nbformat_minor": 2
}
